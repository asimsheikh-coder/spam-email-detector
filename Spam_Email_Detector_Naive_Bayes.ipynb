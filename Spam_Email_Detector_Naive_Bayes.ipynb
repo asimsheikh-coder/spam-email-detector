{
 "cells": [
  {
   "cell_type": "markdown",
   "id": "aa473c96",
   "metadata": {},
   "source": [
    "# 📧 Spam Email Detection using Naive Bayes\n",
    "\n",
    "This notebook demonstrates how to build a **Spam Email Classifier** using **Naive Bayes** — one of the most popular algorithms for text classification.  \n",
    "We’ll use **Scikit-learn** to preprocess the data, train the model, and evaluate its performance.\n",
    "\n",
    "---\n",
    "\n",
    "## 🎯 Objectives\n",
    "- Understand the concept of Naive Bayes for text classification.  \n",
    "- Learn how to preprocess text using TF-IDF vectorization.  \n",
    "- Build and evaluate a spam detection model.  \n",
    "\n",
    "---\n"
   ]
  },
  {
   "cell_type": "code",
   "execution_count": null,
   "id": "6afbf70f",
   "metadata": {},
   "outputs": [],
   "source": [
    "# Import necessary libraries\n",
    "import pandas as pd\n",
    "from sklearn.model_selection import train_test_split\n",
    "from sklearn.feature_extraction.text import TfidfVectorizer\n",
    "from sklearn.naive_bayes import MultinomialNB\n",
    "from sklearn.metrics import accuracy_score, confusion_matrix, classification_report\n",
    "import seaborn as sns\n",
    "import matplotlib.pyplot as plt\n",
    "\n",
    "# Ignore warnings for clean output\n",
    "import warnings\n",
    "warnings.filterwarnings('ignore')"
   ]
  },
  {
   "cell_type": "markdown",
   "id": "54c38574",
   "metadata": {},
   "source": [
    "## 📚 Step 1: Load Dataset\n",
    "We'll use the **SMS Spam Collection Dataset** (can be downloaded from UCI Machine Learning Repository).  \n",
    "For demonstration, we’ll create a small sample dataset directly here.\n"
   ]
  },
  {
   "cell_type": "code",
   "execution_count": null,
   "id": "9473f8c8",
   "metadata": {},
   "outputs": [],
   "source": [
    "# Sample dataset\n",
    "data = {\n",
    "    'label': ['ham', 'spam', 'ham', 'ham', 'spam', 'spam', 'ham', 'ham', 'spam', 'ham'],\n",
    "    'message': [\n",
    "        'Hey, how are you doing today?',\n",
    "        'You won $1000! Claim your prize now.',\n",
    "        'Are we still meeting for lunch?',\n",
    "        'Don’t forget to bring the documents.',\n",
    "        'Congratulations! You have been selected for a free trip!',\n",
    "        'Get cheap loans now, limited offer!',\n",
    "        'Can you call me later?',\n",
    "        'Let’s catch up this weekend.',\n",
    "        'Exclusive deal just for you, click here!',\n",
    "        'Happy Birthday! Have a great day!'\n",
    "    ]\n",
    "}\n",
    "\n",
    "df = pd.DataFrame(data)\n",
    "df.head()"
   ]
  },
  {
   "cell_type": "markdown",
   "id": "fc369577",
   "metadata": {},
   "source": [
    "## 🧹 Step 2: Preprocess Data\n",
    "We'll split the dataset into **train** and **test** sets, and convert the text into numerical features using **TF-IDF Vectorizer**.\n"
   ]
  },
  {
   "cell_type": "code",
   "execution_count": null,
   "id": "2db7cd02",
   "metadata": {},
   "outputs": [],
   "source": [
    "# Split data\n",
    "X_train, X_test, y_train, y_test = train_test_split(df['message'], df['label'], test_size=0.3, random_state=42)\n",
    "\n",
    "# TF-IDF Vectorization\n",
    "vectorizer = TfidfVectorizer(stop_words='english', max_features=1000)\n",
    "X_train_tfidf = vectorizer.fit_transform(X_train)\n",
    "X_test_tfidf = vectorizer.transform(X_test)\n",
    "\n",
    "print(\"Training data shape:\", X_train_tfidf.shape)\n",
    "print(\"Testing data shape:\", X_test_tfidf.shape)"
   ]
  },
  {
   "cell_type": "markdown",
   "id": "188beaa0",
   "metadata": {},
   "source": [
    "## 🤖 Step 3: Train Naive Bayes Model\n",
    "We'll use the **Multinomial Naive Bayes** classifier, commonly used for text classification problems.\n"
   ]
  },
  {
   "cell_type": "code",
   "execution_count": null,
   "id": "2c89602f",
   "metadata": {},
   "outputs": [],
   "source": [
    "# Initialize and train model\n",
    "model = MultinomialNB()\n",
    "model.fit(X_train_tfidf, y_train)\n",
    "\n",
    "# Predict on test data\n",
    "y_pred = model.predict(X_test_tfidf)\n",
    "\n",
    "# Evaluate accuracy\n",
    "accuracy = accuracy_score(y_test, y_pred)\n",
    "print(f\"✅ Model Accuracy: {accuracy * 100:.2f}%\")"
   ]
  },
  {
   "cell_type": "markdown",
   "id": "1d5bb166",
   "metadata": {},
   "source": [
    "## 📊 Step 4: Evaluate Model Performance"
   ]
  },
  {
   "cell_type": "code",
   "execution_count": null,
   "id": "19d43b88",
   "metadata": {},
   "outputs": [],
   "source": [
    "# Confusion Matrix and Report\n",
    "cm = confusion_matrix(y_test, y_pred)\n",
    "sns.heatmap(cm, annot=True, cmap='Blues', fmt='d', xticklabels=['ham', 'spam'], yticklabels=['ham', 'spam'])\n",
    "plt.title(\"Confusion Matrix\")\n",
    "plt.xlabel(\"Predicted\")\n",
    "plt.ylabel(\"Actual\")\n",
    "plt.show()\n",
    "\n",
    "print(\"\\nClassification Report:\")\n",
    "print(classification_report(y_test, y_pred))"
   ]
  },
  {
   "cell_type": "markdown",
   "id": "ce09b97c",
   "metadata": {},
   "source": [
    "## 📨 Step 5: Test the Model with New Messages\n",
    "Let's check predictions for new, unseen messages.\n"
   ]
  },
  {
   "cell_type": "code",
   "execution_count": null,
   "id": "0fa5c8ae",
   "metadata": {},
   "outputs": [],
   "source": [
    "# Custom test examples\n",
    "new_messages = [\n",
    "    \"You have won a free gift card worth $500! Click to claim.\",\n",
    "    \"Are you coming to the meeting tomorrow?\",\n",
    "    \"Congratulations, you've been selected for an exclusive offer!\",\n",
    "    \"Let's go for dinner tonight.\"\n",
    "]\n",
    "\n",
    "# Transform and predict\n",
    "new_tfidf = vectorizer.transform(new_messages)\n",
    "predictions = model.predict(new_tfidf)\n",
    "\n",
    "for msg, pred in zip(new_messages, predictions):\n",
    "    print(f\"Message: {msg}\\nPrediction: {pred}\\n\")"
   ]
  },
  {
   "cell_type": "markdown",
   "id": "e65b35f2",
   "metadata": {},
   "source": [
    "---\n",
    "### ✅ Summary\n",
    "In this notebook, we:\n",
    "- Learned how to preprocess text data using TF-IDF.  \n",
    "- Built and trained a **Naive Bayes** model for spam detection.  \n",
    "- Evaluated performance using accuracy and confusion matrix.  \n",
    "- Tested the model with new unseen messages.\n",
    "\n",
    "---\n",
    "\n",
    "**Next Step:** Try using a larger dataset (like the UCI SMS Spam Collection) and experiment with other models such as **Logistic Regression** or **Support Vector Machines**.\n"
   ]
  }
 ],
 "metadata": {},
 "nbformat": 4,
 "nbformat_minor": 5
}
